{
 "cells": [
  {
   "cell_type": "code",
   "execution_count": 45,
   "id": "d740367c-9604-48cf-ad62-28bbc2621d30",
   "metadata": {},
   "outputs": [
    {
     "name": "stdin",
     "output_type": "stream",
     "text": [
      "Enter the no of rows: 2\n",
      "Enter the no of coloumn: 2\n"
     ]
    },
    {
     "name": "stdout",
     "output_type": "stream",
     "text": [
      "Enter the entries in a single line(sepearated by space): \n"
     ]
    },
    {
     "name": "stdin",
     "output_type": "stream",
     "text": [
      " 1 2 3 4\n"
     ]
    },
    {
     "name": "stdout",
     "output_type": "stream",
     "text": [
      "Matrix_1: \n",
      " [[1 2]\n",
      " [3 4]]\n"
     ]
    },
    {
     "name": "stdin",
     "output_type": "stream",
     "text": [
      "Enter the no of rows: 2\n",
      "Enter the no of coloumn: 2\n"
     ]
    },
    {
     "name": "stdout",
     "output_type": "stream",
     "text": [
      "Enter the entries in a single line(sepearated by space): \n"
     ]
    },
    {
     "name": "stdin",
     "output_type": "stream",
     "text": [
      " 0 1 2 0\n"
     ]
    },
    {
     "name": "stdout",
     "output_type": "stream",
     "text": [
      "matrix_2: \n",
      " [[0 1]\n",
      " [2 0]]\n"
     ]
    }
   ],
   "source": [
    "import numpy as np\n",
    "R1 = int(input(\"Enter the no of rows:\"))\n",
    "C1 = int(input(\"Enter the no of coloumn:\"))\n",
    "print(\"Enter the entries in a single line(sepearated by space): \")\n",
    "entries = list(map(int, input().split()))\n",
    "matrix_1 = np.array(entries).reshape(R1,C1)\n",
    "print(\"Matrix_1: \\n\",matrix_1)\n",
    "\n",
    "\n",
    "R2 = int(input(\"Enter the no of rows:\"))\n",
    "C2= int(input(\"Enter the no of coloumn:\"))\n",
    "print(\"Enter the entries in a single line(sepearated by space): \")\n",
    "entries = list(map(int, input().split()))\n",
    "matrix_2 = np.array(entries).reshape(R2,C2)\n",
    "print(\"matrix_2: \\n\",matrix_2)"
   ]
  },
  {
   "cell_type": "code",
   "execution_count": 46,
   "id": "195a7752-a1be-4b0d-a035-32cbce03fb17",
   "metadata": {},
   "outputs": [
    {
     "name": "stdout",
     "output_type": "stream",
     "text": [
      "dot.product of 2 matrices: \n",
      " [[4 1]\n",
      " [8 3]]\n"
     ]
    }
   ],
   "source": [
    "#Dot.product\n",
    "\n",
    "dot_prdt = np.dot(matrix_1,matrix_2)\n",
    "print(\"dot.product of 2 matrices: \\n\",dot_prdt)\n"
   ]
  },
  {
   "cell_type": "code",
   "execution_count": 48,
   "id": "2548067a-25a1-4e3e-9b39-942e203f4085",
   "metadata": {},
   "outputs": [
    {
     "name": "stdout",
     "output_type": "stream",
     "text": [
      "Transpose of matrix_1: \n",
      " [[1 3]\n",
      " [2 4]] \n",
      " Transpose of matrix_2: \n",
      " [[0 2]\n",
      " [1 0]]\n"
     ]
    }
   ],
   "source": [
    "#transpose\n",
    "\n",
    "\n",
    "print(\"Transpose of matrix_1: \\n\",matrix_1.transpose(), \"\\n Transpose of matrix_2: \\n\",matrix_2.transpose())\n"
   ]
  },
  {
   "cell_type": "code",
   "execution_count": 49,
   "id": "11cf37d4-905a-49fa-a0f3-16bc16f72c57",
   "metadata": {},
   "outputs": [
    {
     "name": "stdout",
     "output_type": "stream",
     "text": [
      "Trace of matrix_1: \n",
      " 5 \n",
      " Trace of matrix_2: \n",
      " 0\n"
     ]
    }
   ],
   "source": [
    " #trace\n",
    "    \n",
    "print(\"Trace of matrix_1: \\n\",np.trace(matrix_1),\"\\n Trace of matrix_2: \\n\",np.trace(matrix_2))    \n"
   ]
  },
  {
   "cell_type": "code",
   "execution_count": 50,
   "id": "8a1b2592-9b0b-46d3-9ad2-edfe6903c6ae",
   "metadata": {},
   "outputs": [
    {
     "name": "stdout",
     "output_type": "stream",
     "text": [
      "The rank of matrix_1 : 2 \n",
      " The rank of matrix_2 : 2\n"
     ]
    }
   ],
   "source": [
    "#rank\n",
    "\n",
    "print(\"The rank of matrix_1 :\",np.linalg.matrix_rank(matrix_1),\"\\n The rank of matrix_2 :\",np.linalg.matrix_rank(matrix_2))"
   ]
  },
  {
   "cell_type": "code",
   "execution_count": 52,
   "id": "45af4861-b1a5-40f0-9e12-3edb41517a18",
   "metadata": {},
   "outputs": [
    {
     "name": "stdout",
     "output_type": "stream",
     "text": [
      "The determinent of matrix_1 : -2 \n",
      " The determinent of matrix_2 : -2\n"
     ]
    }
   ],
   "source": [
    "#determinent\n",
    "\n",
    "print(\"The determinent of matrix_1 :\",int(np.linalg.det(matrix_1)),\"\\n The determinent of matrix_2 :\",int(np.linalg.det(matrix_2)))"
   ]
  },
  {
   "cell_type": "code",
   "execution_count": 53,
   "id": "10d4417e-3efe-409d-83cb-f3be7bc311ac",
   "metadata": {},
   "outputs": [
    {
     "name": "stdout",
     "output_type": "stream",
     "text": [
      "The inverse of matrix_1 : \n",
      " [[-2.   1. ]\n",
      " [ 1.5 -0.5]] \n",
      " The inverse of matrix_2 : \n",
      " [[0.  0.5]\n",
      " [1.  0. ]]\n"
     ]
    }
   ],
   "source": [
    "#Inverse\n",
    "\n",
    "print(\"The inverse of matrix_1 : \\n\",np.linalg.inv(matrix_1),\"\\n The inverse of matrix_2 : \\n\",np.linalg.inv(matrix_2))\n"
   ]
  },
  {
   "cell_type": "code",
   "execution_count": 58,
   "id": "bc30572d-6522-47e9-a014-ead72fb38aca",
   "metadata": {},
   "outputs": [
    {
     "name": "stdout",
     "output_type": "stream",
     "text": [
      "The eigen values of matrix_1 : \n",
      " [-0.37228132  5.37228132]\n",
      " The eigen vectors of matrix_1:\n",
      " [[-0.82456484 -0.41597356]\n",
      " [ 0.56576746 -0.90937671]]\n",
      "The eigen values of matrix_2 : \n",
      " [ 1.41421356 -1.41421356]\n",
      " The eigen vectors of matrix_2:\n",
      " [[ 0.57735027 -0.57735027]\n",
      " [ 0.81649658  0.81649658]]\n"
     ]
    }
   ],
   "source": [
    "#Eigen values and eigen vectors\n",
    "\n",
    "w1, v1 = np.linalg.eig(matrix_1)\n",
    "\n",
    "\n",
    "print(\"The eigen values of matrix_1 : \\n\",w1)\n",
    "print(\" The eigen vectors of matrix_1:\\n\",v1)\n",
    "\n",
    "w2 , v2 = np.linalg.eig(matrix_2)\n",
    "\n",
    "print(\"The eigen values of matrix_2 : \\n\",w2)\n",
    "print(\" The eigen vectors of matrix_2:\\n\",v2)\n",
    "\n",
    "\n"
   ]
  },
  {
   "cell_type": "code",
   "execution_count": null,
   "id": "a1dcc6ac-2f39-48bc-8d3a-e1633958e188",
   "metadata": {},
   "outputs": [],
   "source": []
  },
  {
   "cell_type": "code",
   "execution_count": null,
   "id": "15bcd123-152a-447b-89af-c495cbbc5426",
   "metadata": {},
   "outputs": [],
   "source": []
  },
  {
   "cell_type": "code",
   "execution_count": null,
   "id": "1700d791-8c68-4581-8ceb-5968b191b9a1",
   "metadata": {},
   "outputs": [],
   "source": []
  }
 ],
 "metadata": {
  "kernelspec": {
   "display_name": "Python 3 (ipykernel)",
   "language": "python",
   "name": "python3"
  },
  "language_info": {
   "codemirror_mode": {
    "name": "ipython",
    "version": 3
   },
   "file_extension": ".py",
   "mimetype": "text/x-python",
   "name": "python",
   "nbconvert_exporter": "python",
   "pygments_lexer": "ipython3",
   "version": "3.9.12"
  }
 },
 "nbformat": 4,
 "nbformat_minor": 5
}
