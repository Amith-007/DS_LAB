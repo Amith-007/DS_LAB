{
  "nbformat": 4,
  "nbformat_minor": 0,
  "metadata": {
    "colab": {
      "provenance": [],
      "collapsed_sections": []
    },
    "kernelspec": {
      "name": "python3",
      "display_name": "Python 3"
    },
    "language_info": {
      "name": "python"
    }
  },
  "cells": [
    {
      "cell_type": "code",
      "execution_count": 2,
      "metadata": {
        "id": "IzZt7udGGl0b"
      },
      "outputs": [],
      "source": [
        "import numpy as np\n",
        "import matplotlib.pyplot as plt\n",
        "import pandas as pd\n",
        "import sklearn"
      ]
    },
    {
      "cell_type": "code",
      "source": [
        "df= pd.read_csv('Social_Network_Ads.csv')\n",
        "x = df.iloc[:, [2, 3]].values\n",
        "y = df.iloc[:, -1].values"
      ],
      "metadata": {
        "id": "regNwh-XG1vC"
      },
      "execution_count": 8,
      "outputs": []
    },
    {
      "cell_type": "code",
      "source": [
        "from sklearn.model_selection import train_test_split\n",
        "x_train, x_test, y_train, y_test = train_test_split(x, y , test_size=0.20, random_state=0)"
      ],
      "metadata": {
        "id": "Ow-BjKOAFK9j"
      },
      "execution_count": 56,
      "outputs": []
    },
    {
      "cell_type": "code",
      "source": [
        "from sklearn.neighbors import KNeighborsClassifier \n",
        "classifier = KNeighborsClassifier(n_neighbors = 5, metric = 'euclidean')\n",
        "classifier.fit(x_train,y_train)\n",
        "\n",
        "\n",
        "y_pred = classifier.predict(x_test)\n",
        "\n",
        "\n",
        "from sklearn.metrics import confusion_matrix,accuracy_score\n",
        "cm = confusion_matrix(y_test,y_pred)\n",
        "ac = accuracy_score(y_test,y_pred)*100\n",
        "print(ac)"
      ],
      "metadata": {
        "colab": {
          "base_uri": "https://localhost:8080/"
        },
        "id": "c_alS81rFNdd",
        "outputId": "e59f3b4c-ead6-4c75-a204-f6e3d68c4948"
      },
      "execution_count": 57,
      "outputs": [
        {
          "output_type": "stream",
          "name": "stdout",
          "text": [
            "83.75\n"
          ]
        }
      ]
    }
  ]
}